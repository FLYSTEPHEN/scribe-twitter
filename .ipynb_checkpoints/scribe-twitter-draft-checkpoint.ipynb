{
 "cells": [
  {
   "cell_type": "code",
   "execution_count": null,
   "metadata": {},
   "outputs": [],
   "source": [
    "from datetime import datetime, timedelta\n",
    "from dateutil.parser import parse\n",
    "\n",
    "account = 'APDChina'\n",
    "start_date = 'May 2011'\n",
    "lifetime = (\n",
    "    datetime.now() - parse(\n",
    "        start_date,default = datetime(2019, 11, 1))).days\n",
    "\n",
    "url_list = []\n",
    "for i in range(lifetime):\n",
    "    date1 = (start_date_parsed + timedelta(days = i)).strftime('%Y-%m-%d')\n",
    "    date2 = (start_date_parsed + timedelta(days = i+1)).strftime('%Y-%m-%d')\n",
    "    url_list.append(\n",
    "        'https://twitter.com/search?l=&q=from%3{}%20since%3A{}%20until%3A{}&src=typd'.format(account,date1,date2)\n",
    "    )\n",
    "url_list"
   ]
  },
  {
   "cell_type": "code",
   "execution_count": 23,
   "metadata": {},
   "outputs": [
    {
     "name": "stdout",
     "output_type": "stream",
     "text": [
      "Traceback (most recent call last):\r\n",
      "  File \"twitter-video-downloader.py\", line 102, in <module>\r\n",
      "    download(args.video_url)\r\n",
      "  File \"twitter-video-downloader.py\", line 23, in download\r\n",
      "    tweet_id = video_url.split('/')[5]\r\n",
      "IndexError: list index out of range\r\n"
     ]
    }
   ],
   "source": [
    "!python3 twitter-video-downloader.py -v 'https://video.twimg.com/tweet_video/DsYLW_XW0AE1KHA.mp4'"
   ]
  },
  {
   "cell_type": "code",
   "execution_count": null,
   "metadata": {},
   "outputs": [],
   "source": [
    "    text = i.find_element_by_class_name('js-tweet-text-container').text\n",
    "    highpoints = re.compile(u'[\\uD800-\\uDBFF][\\uDC00-\\uDFFF]') \n",
    "    text_noem = highpoints.sub('--emoji--', text).encode('utf8')\n",
    "    innerlist.append(text_noem)"
   ]
  },
  {
   "cell_type": "code",
   "execution_count": null,
   "metadata": {},
   "outputs": [],
   "source": [
    "innerlist.append(tweet.find_element_by_css_selector(\n",
    "        \"[class='ProfileTweet-action ProfileTweet-action--reply']\").text)\n",
    "    innerlist.append(tweet.find_element_by_css_selector(\n",
    "        \"[class='ProfileTweet-action ProfileTweet-action--retweet js-toggleState js-toggleRt']\"\n",
    "    ).text)\n",
    "    innerlist.append(tweet.find_element_by_css_selector(\n",
    "        \"[class='ProfileTweet-action ProfileTweet-action--favorite js-toggleState']\").text)"
   ]
  },
  {
   "cell_type": "code",
   "execution_count": null,
   "metadata": {},
   "outputs": [],
   "source": [
    "#登陆推特账号\n",
    "browser=webdriver.Chrome()\n",
    "browser.get(\"https://www.twitter.com\")\n",
    "time.sleep(1)\n",
    "giris_yap=browser.find_element_by_xpath(\"//*[@id='doc']/div/div[1]/div[1]/div[2]/div[1]/a\")\n",
    "giris_yap.click()\n",
    "time.sleep(2)\n",
    "\n",
    "usurname=browser.find_element_by_class_name(\"js-username-field\")\n",
    "password=browser.find_element_by_class_name(\"js-password-field\")\n",
    "login=browser.find_element_by_xpath(\"//*[@id='page-container']/div/div[1]/form/div[2]/button\")\n",
    "\n",
    "usurname.send_keys(\"@FLYINGC7\")\n",
    "time.sleep(1)\n",
    "password.send_keys(\"gc19931049\")\n",
    "time.sleep(1)\n",
    "login.click()\n",
    "time.sleep(3)"
   ]
  }
 ],
 "metadata": {
  "kernelspec": {
   "display_name": "Python 3",
   "language": "python",
   "name": "python3"
  },
  "language_info": {
   "codemirror_mode": {
    "name": "ipython",
    "version": 3
   },
   "file_extension": ".py",
   "mimetype": "text/x-python",
   "name": "python",
   "nbconvert_exporter": "python",
   "pygments_lexer": "ipython3",
   "version": "3.7.0"
  }
 },
 "nbformat": 4,
 "nbformat_minor": 2
}
